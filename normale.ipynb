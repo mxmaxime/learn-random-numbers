{
 "nbformat": 4,
 "nbformat_minor": 2,
 "metadata": {
  "language_info": {
   "name": "python",
   "codemirror_mode": {
    "name": "ipython",
    "version": 3
   },
   "version": "3.8.2-final"
  },
  "orig_nbformat": 2,
  "file_extension": ".py",
  "mimetype": "text/x-python",
  "name": "python",
  "npconvert_exporter": "python",
  "pygments_lexer": "ipython3",
  "version": 3,
  "kernelspec": {
   "name": "python38264bitrandomvariablespipenv3f2ee39465f84b0eb737c7418ce46d48",
   "display_name": "Python 3.8.2 64-bit ('random-variables': pipenv)"
  }
 },
 "cells": [
  {
   "cell_type": "code",
   "metadata": {},
   "outputs": [],
   "source": [
    "import numpy as np\n",
    "import scipy\n",
    "import seaborn as sns\n",
    "import matplotlib.pyplot as plt\n",
    "\n",
    "from laws.normale_law import generate_normale_law, normale_probability\n",
    "from general_stats import perform_chi2_test\n",
    "from functools import partial\n",
    ""
   ]
  },
  {
   "cell_type": "code",
   "metadata": {},
   "outputs": [],
   "source": [
    "N = 1000"
   ]
  },
  {
   "cell_type": "code",
   "metadata": {},
   "outputs": [
    {
     "output_type": "stream",
     "name": "stdout",
    },
    {
     "output_type": "display_data",
     "data": {
      "text/plain": "<Figure size 432x288 with 1 Axes>",
     },
     "metadata": {
      "needs_background": "light"
     }
    }
   ],
   "source": [
    "U = np.random.uniform(size=N)\n",
    "V = np.random.uniform(size=N)\n",
    "\n",
    "normale_values1, normale_values2 = generate_normale_law(U, V)\n",
    "\n",
    "# mu = 0, sigma = 1 car loi normale centrée réduite.\n",
    "chi2, empirical_values, expected_values, bins = perform_chi2_test(normale_values1, partial(normale_probability, 0, 1))\n",
    "print(chi2)"
   ]
  }
 ]
}